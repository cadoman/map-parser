{
 "cells": [
  {
   "cell_type": "markdown",
   "metadata": {},
   "source": [
    "# Goals\n",
    "The objective of these notebooks is to parse a video-extracted png map. Say Europe 1918 : ![Europe 1918](input/europe_1918.png)\n",
    "Into an SVG file, with automatic country name detection"
   ]
  },
  {
   "cell_type": "markdown",
   "metadata": {},
   "source": [
    "## Steps\n",
    "Here are the main steps to be taken in order to achieve these goals\n",
    "1. Extract all polygons of shape, with their colour\n",
    "2. Extract countries' names\n",
    "3. Label the polygons based on their colour and extracted countries names"
   ]
  },
  {
   "cell_type": "markdown",
   "metadata": {},
   "source": [
    "## 1. Polygon extractions\n",
    "See the notebook [Polygon extraction](polygon_extraction.ipynb)"
   ]
  },
  {
   "cell_type": "code",
   "execution_count": null,
   "metadata": {},
   "outputs": [],
   "source": []
  }
 ],
 "metadata": {
  "kernelspec": {
   "display_name": "Python 3",
   "language": "python",
   "name": "python3"
  },
  "language_info": {
   "codemirror_mode": {
    "name": "ipython",
    "version": 3
   },
   "file_extension": ".py",
   "mimetype": "text/x-python",
   "name": "python",
   "nbconvert_exporter": "python",
   "pygments_lexer": "ipython3",
   "version": "3.7.5"
  }
 },
 "nbformat": 4,
 "nbformat_minor": 2
}
